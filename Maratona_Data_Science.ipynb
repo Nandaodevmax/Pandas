{
  "nbformat": 4,
  "nbformat_minor": 0,
  "metadata": {
    "colab": {
      "name": "Maratona Data Science",
      "provenance": [],
      "authorship_tag": "ABX9TyNcXhwlUvPWRe3TrjSt63AY",
      "include_colab_link": true
    },
    "kernelspec": {
      "name": "python3",
      "display_name": "Python 3"
    }
  },
  "cells": [
    {
      "cell_type": "markdown",
      "metadata": {
        "id": "view-in-github",
        "colab_type": "text"
      },
      "source": [
        "<a href=\"https://colab.research.google.com/github/Nandaodevmax/Pandas/blob/master/Maratona_Data_Science.ipynb\" target=\"_parent\"><img src=\"https://colab.research.google.com/assets/colab-badge.svg\" alt=\"Open In Colab\"/></a>"
      ]
    },
    {
      "cell_type": "markdown",
      "metadata": {
        "id": "4E2iKzGZuZlf",
        "colab_type": "text"
      },
      "source": [
        "##1° Aula Maratona Data Science"
      ]
    },
    {
      "cell_type": "code",
      "metadata": {
        "id": "eIN4-5q0vt2Q",
        "colab_type": "code",
        "outputId": "35a01726-cf24-4839-dbb0-16097393bccd",
        "colab": {
          "base_uri": "https://localhost:8080/",
          "height": 128
        }
      },
      "source": [
        "print(\"Hello, Word!\")x"
      ],
      "execution_count": 4,
      "outputs": [
        {
          "output_type": "error",
          "ename": "SyntaxError",
          "evalue": "ignored",
          "traceback": [
            "\u001b[0;36m  File \u001b[0;32m\"<ipython-input-4-eb3dc7dd1be4>\"\u001b[0;36m, line \u001b[0;32m1\u001b[0m\n\u001b[0;31m    print(\"Hello, Word!\")x\u001b[0m\n\u001b[0m                         ^\u001b[0m\n\u001b[0;31mSyntaxError\u001b[0m\u001b[0;31m:\u001b[0m invalid syntax\n"
          ]
        }
      ]
    },
    {
      "cell_type": "code",
      "metadata": {
        "id": "OjjLKwgbyh_Z",
        "colab_type": "code",
        "colab": {}
      },
      "source": [
        "x = input(\"Hello \")\n",
        "print(f\"Hello {x} \")"
      ],
      "execution_count": 0,
      "outputs": []
    },
    {
      "cell_type": "code",
      "metadata": {
        "id": "nnL_CUgsy-Qf",
        "colab_type": "code",
        "colab": {}
      },
      "source": [
        "# inteiro\n",
        "a = 1\n",
        "print(type (a))"
      ],
      "execution_count": 0,
      "outputs": []
    },
    {
      "cell_type": "code",
      "metadata": {
        "id": "3F0pfLpS0A92",
        "colab_type": "code",
        "colab": {}
      },
      "source": [
        "# STRING\n",
        "c = \"Python\"\n",
        "print(type(c))"
      ],
      "execution_count": 0,
      "outputs": []
    },
    {
      "cell_type": "code",
      "metadata": {
        "id": "poJ1lWN50Qef",
        "colab_type": "code",
        "colab": {}
      },
      "source": [
        "# BOOLEANOS\n",
        "d = True\n",
        "print(type(d))"
      ],
      "execution_count": 0,
      "outputs": []
    },
    {
      "cell_type": "code",
      "metadata": {
        "id": "_jVg1dma0mkR",
        "colab_type": "code",
        "colab": {}
      },
      "source": [
        ""
      ],
      "execution_count": 0,
      "outputs": []
    },
    {
      "cell_type": "markdown",
      "metadata": {
        "id": "npAn7XWZ0xa9",
        "colab_type": "text"
      },
      "source": [
        "##Convertendo os tipos"
      ]
    },
    {
      "cell_type": "code",
      "metadata": {
        "id": "M9MRs44603hG",
        "colab_type": "code",
        "colab": {}
      },
      "source": [
        "e = int(a)\n",
        "print(e, type(e))"
      ],
      "execution_count": 0,
      "outputs": []
    },
    {
      "cell_type": "code",
      "metadata": {
        "id": "3pc5-ivo1Fq3",
        "colab_type": "code",
        "colab": {}
      },
      "source": [
        "f = float(d)\n",
        "print(f, type(f))"
      ],
      "execution_count": 0,
      "outputs": []
    },
    {
      "cell_type": "code",
      "metadata": {
        "id": "FJ-4DS61104p",
        "colab_type": "code",
        "colab": {}
      },
      "source": [
        "g = str(a)\n",
        "print(g, type(g))"
      ],
      "execution_count": 0,
      "outputs": []
    },
    {
      "cell_type": "code",
      "metadata": {
        "id": "xRganbDy2BuF",
        "colab_type": "code",
        "colab": {}
      },
      "source": [
        ""
      ],
      "execution_count": 0,
      "outputs": []
    },
    {
      "cell_type": "markdown",
      "metadata": {
        "id": "MRsUBCtn3950",
        "colab_type": "text"
      },
      "source": [
        "##Operadores"
      ]
    },
    {
      "cell_type": "code",
      "metadata": {
        "id": "QCslAZQ04Bqh",
        "colab_type": "code",
        "colab": {}
      },
      "source": [
        "# Soma strings\n",
        "print(\"chat\", \"bot\")"
      ],
      "execution_count": 0,
      "outputs": []
    },
    {
      "cell_type": "code",
      "metadata": {
        "id": "h2EPkMqj4PO4",
        "colab_type": "code",
        "colab": {}
      },
      "source": [
        "#Subtração\n",
        "print(150-50)"
      ],
      "execution_count": 0,
      "outputs": []
    },
    {
      "cell_type": "code",
      "metadata": {
        "id": "lYA9SmNH4XlQ",
        "colab_type": "code",
        "colab": {}
      },
      "source": [
        "#Multiplicação\n",
        "print(5*8)"
      ],
      "execution_count": 0,
      "outputs": []
    },
    {
      "cell_type": "code",
      "metadata": {
        "id": "Ha9RIiMh4eQW",
        "colab_type": "code",
        "colab": {}
      },
      "source": [
        "#Divisão\n",
        "print(100/3)"
      ],
      "execution_count": 0,
      "outputs": []
    },
    {
      "cell_type": "code",
      "metadata": {
        "id": "XgL9jaIC4jle",
        "colab_type": "code",
        "colab": {}
      },
      "source": [
        "#Exponeciação\n",
        "print(2**3)"
      ],
      "execution_count": 0,
      "outputs": []
    },
    {
      "cell_type": "code",
      "metadata": {
        "id": "sndS5l3-4ruE",
        "colab_type": "code",
        "colab": {}
      },
      "source": [
        "#Parte inteira da divisão\n",
        "print(100//3)"
      ],
      "execution_count": 0,
      "outputs": []
    },
    {
      "cell_type": "code",
      "metadata": {
        "id": "IHXbnced41Zn",
        "colab_type": "code",
        "colab": {}
      },
      "source": [
        "#Resto da divisão\n",
        "print(100%3)"
      ],
      "execution_count": 0,
      "outputs": []
    },
    {
      "cell_type": "code",
      "metadata": {
        "id": "zqYHo-my4-AD",
        "colab_type": "code",
        "colab": {}
      },
      "source": [
        ""
      ],
      "execution_count": 0,
      "outputs": []
    },
    {
      "cell_type": "markdown",
      "metadata": {
        "id": "38NP5X3t4_xP",
        "colab_type": "text"
      },
      "source": [
        "##Regras de pendências(PEMDAS)"
      ]
    },
    {
      "cell_type": "code",
      "metadata": {
        "id": "goEoq7dS5Ibl",
        "colab_type": "code",
        "colab": {}
      },
      "source": [
        "#MAIOR >\n",
        "print(10>0)"
      ],
      "execution_count": 0,
      "outputs": []
    },
    {
      "cell_type": "code",
      "metadata": {
        "id": "lBY6cKQv5v3s",
        "colab_type": "code",
        "colab": {}
      },
      "source": [
        "#MENOR <\n",
        "print(0<10)"
      ],
      "execution_count": 0,
      "outputs": []
    },
    {
      "cell_type": "code",
      "metadata": {
        "id": "o4yPy5qJ5477",
        "colab_type": "code",
        "colab": {}
      },
      "source": [
        "#MAIOR OU IGUAL>=\n",
        "print(10 >= 10)"
      ],
      "execution_count": 0,
      "outputs": []
    },
    {
      "cell_type": "code",
      "metadata": {
        "id": "h1zWyZeY6GH8",
        "colab_type": "code",
        "colab": {}
      },
      "source": [
        "#MENOR OU IGUAL<=\n",
        "print(10<=10)"
      ],
      "execution_count": 0,
      "outputs": []
    },
    {
      "cell_type": "code",
      "metadata": {
        "id": "hnaCn4bZ6Mt4",
        "colab_type": "code",
        "colab": {}
      },
      "source": [
        "#IGUAL ==\n",
        "print(10==10)"
      ],
      "execution_count": 0,
      "outputs": []
    },
    {
      "cell_type": "code",
      "metadata": {
        "id": "ErgTYUh16UI2",
        "colab_type": "code",
        "colab": {}
      },
      "source": [
        "#DIFERENTE !=\n",
        "print(10 != 10)\n"
      ],
      "execution_count": 0,
      "outputs": []
    },
    {
      "cell_type": "code",
      "metadata": {
        "id": "T41hnMgW6k7M",
        "colab_type": "code",
        "colab": {}
      },
      "source": [
        ""
      ],
      "execution_count": 0,
      "outputs": []
    },
    {
      "cell_type": "markdown",
      "metadata": {
        "id": "7G8zv9m56mrr",
        "colab_type": "text"
      },
      "source": [
        "## Operadores in"
      ]
    },
    {
      "cell_type": "markdown",
      "metadata": {
        "id": "Js84Yj_o7NNt",
        "colab_type": "text"
      },
      "source": [
        "Operador IN verifica se o elemento está contido na estrutura citada"
      ]
    },
    {
      "cell_type": "code",
      "metadata": {
        "id": "Ta4EsITy7Yfh",
        "colab_type": "code",
        "colab": {}
      },
      "source": [
        "x = \"python\"\n",
        "print(\"p\" in x)"
      ],
      "execution_count": 0,
      "outputs": []
    },
    {
      "cell_type": "code",
      "metadata": {
        "id": "L0ssrmuC7jKW",
        "colab_type": "code",
        "colab": {}
      },
      "source": [
        ""
      ],
      "execution_count": 0,
      "outputs": []
    },
    {
      "cell_type": "markdown",
      "metadata": {
        "id": "aNj-vwXh79mD",
        "colab_type": "text"
      },
      "source": [
        "##>>> Exercícios\n",
        "1.Crie um algoritmo que solicite do usuário 2 números e apresente a soma de ambos(fácil)"
      ]
    },
    {
      "cell_type": "code",
      "metadata": {
        "id": "4VsErgZ09LFW",
        "colab_type": "code",
        "colab": {}
      },
      "source": [
        ""
      ],
      "execution_count": 0,
      "outputs": []
    },
    {
      "cell_type": "markdown",
      "metadata": {
        "id": "h-OK4Kjc9cq3",
        "colab_type": "text"
      },
      "source": [
        "2.Crie um algoritmo que solicite o usuário 2 números e apresente o intervalo númerico entre eles(médio)"
      ]
    },
    {
      "cell_type": "code",
      "metadata": {
        "id": "EaV9hyJt9dih",
        "colab_type": "code",
        "colab": {}
      },
      "source": [
        ""
      ],
      "execution_count": 0,
      "outputs": []
    },
    {
      "cell_type": "markdown",
      "metadata": {
        "id": "AAh0zn6m9hME",
        "colab_type": "text"
      },
      "source": [
        "3.Crie um algoritmo que solicite do usuário e apresente o minímo multiplo comum (MMC)entre eles(difíl)"
      ]
    },
    {
      "cell_type": "code",
      "metadata": {
        "id": "Mt_YhfKq9h6w",
        "colab_type": "code",
        "colab": {}
      },
      "source": [
        ""
      ],
      "execution_count": 0,
      "outputs": []
    },
    {
      "cell_type": "markdown",
      "metadata": {
        "id": "wIHAQd0B-gnW",
        "colab_type": "text"
      },
      "source": [
        "##Conectivos Lógicos"
      ]
    },
    {
      "cell_type": "code",
      "metadata": {
        "id": "r1nfVDYr-mwu",
        "colab_type": "code",
        "colab": {}
      },
      "source": [
        "x = 10\n",
        "if x> 0:\n",
        "  print(\"Número positivo\")\n",
        "else:\n",
        "  print(\"Número negativo\")\n"
      ],
      "execution_count": 0,
      "outputs": []
    },
    {
      "cell_type": "code",
      "metadata": {
        "id": "sym7038i-9vG",
        "colab_type": "code",
        "colab": {}
      },
      "source": [
        "x = \"janeiro\"\n",
        "if x == \"janeiro\" or x == \"fevereiro\" or x == \"março\":\n",
        "  print(\"trimestre 1\")\n",
        "elif x == \"abril\" or x == \"maio\" or x == \"junho\":\n",
        "  print(\"trimestre 2\")\n",
        "else:\n",
        "  print(\"trimestre 3\")  "
      ],
      "execution_count": 0,
      "outputs": []
    },
    {
      "cell_type": "code",
      "metadata": {
        "id": "hEKlJQ5tAX4x",
        "colab_type": "code",
        "colab": {}
      },
      "source": [
        " "
      ],
      "execution_count": 0,
      "outputs": []
    },
    {
      "cell_type": "markdown",
      "metadata": {
        "id": "ohDo9lVvAkPY",
        "colab_type": "text"
      },
      "source": [
        "#>>>Exercícios\n",
        "1.Crie um algoritmo que solicite do usuário um número e calcule se ele é POSITIVO ou NEGATIVO(fácil)"
      ]
    },
    {
      "cell_type": "code",
      "metadata": {
        "id": "__-bm73eA-DT",
        "colab_type": "code",
        "colab": {}
      },
      "source": [
        "numero = int(input(\"Digite o número: \"))\n",
        "if(numero < 0):\n",
        "  print(\"Numero negativo\")\n",
        "else:\n",
        "  print(\"Número positivo\")  "
      ],
      "execution_count": 0,
      "outputs": []
    },
    {
      "cell_type": "markdown",
      "metadata": {
        "id": "O43xjCDlBBYa",
        "colab_type": "text"
      },
      "source": [
        "2.Crie um algoritmo que solicite peso e altura e como resultado printe o IMC na tela(médio)"
      ]
    },
    {
      "cell_type": "code",
      "metadata": {
        "id": "cNT-ePo0BQ9c",
        "colab_type": "code",
        "colab": {}
      },
      "source": [
        "peso = float(input('Qual é o seu peso? (Kg)'))\n",
        "altura = float(input('Qual é a sua altura? (m)'))\n",
        "imc = peso / (altura ** 2)\n",
        "print('O IMC dessa pessoa é de {}'.format(imc))\n",
        "if imc < 18.5:\n",
        "  print('Você está ABAIXO do peso normal')\n",
        "elif 18.5 <= imc < 25:\n",
        "  print('PARABÉNS, você está na faixa de PESO NORMAL')\n",
        "elif 25 <= imc < 30:\n",
        "  print('Você está em SOBRE PESO')\n",
        "elif 30 <= imc < 40:\n",
        "  print ('Você está em OBESIDADE MÓRBIDA, Cuidado!')\n",
        "elif imc >= 40:\n",
        "  print('Você está em OBESIDADE MÓRBIDA, Cuidado!')  "
      ],
      "execution_count": 0,
      "outputs": []
    },
    {
      "cell_type": "markdown",
      "metadata": {
        "id": "cZqW_2M3BR37",
        "colab_type": "text"
      },
      "source": [
        "3.Crie um algoritmo que solicite do usuário um número e printe na tela PAR, quando número par e IMPAR, quando número ímpar(difícil)"
      ]
    },
    {
      "cell_type": "code",
      "metadata": {
        "id": "AYlsJ390BuLA",
        "colab_type": "code",
        "colab": {}
      },
      "source": [
        "numero = int(input('Digite um número qualquer: '))\n",
        "resultado = numero % 2\n",
        "if resultado == 0:\n",
        "   print('O número {} é PAR'.format(numero))\n",
        "else:\n",
        "   print('O número {} é ÍMPAR'.format(numero))"
      ],
      "execution_count": 0,
      "outputs": []
    },
    {
      "cell_type": "code",
      "metadata": {
        "id": "EzV6822qK49l",
        "colab_type": "code",
        "colab": {}
      },
      "source": [
        ""
      ],
      "execution_count": 0,
      "outputs": []
    },
    {
      "cell_type": "markdown",
      "metadata": {
        "id": "4lwDFr_Mtu_m",
        "colab_type": "text"
      },
      "source": [
        "##Métodos e Funções\n",
        "_________________________________________\n",
        "Linguagens de programação orientada a objetos possuem objetos que representam coisas no mundo real e a interação destas coisas no mundo real se dá através dos resultados.\n",
        "\n",
        "##>>>Funções\n",
        "_________________________________________\n",
        "Podem ter parâmetros ou não, qualquer dados pois funções não lidam com classes e conceitos de instâncias"
      ]
    },
    {
      "cell_type": "code",
      "metadata": {
        "id": "OLWnd0yJsct4",
        "colab_type": "code",
        "colab": {}
      },
      "source": [
        "#Estrutura básica de uma função\n",
        "def SuaFunção(a,b):\n",
        "#insira aqui sua função"
      ],
      "execution_count": 0,
      "outputs": []
    },
    {
      "cell_type": "code",
      "metadata": {
        "id": "KFB2SRP6tHdi",
        "colab_type": "code",
        "colab": {}
      },
      "source": [
        "def Subtrair(a,b):\n",
        "return a-b"
      ],
      "execution_count": 0,
      "outputs": []
    },
    {
      "cell_type": "code",
      "metadata": {
        "id": "qI48G21Stbbi",
        "colab_type": "code",
        "colab": {}
      },
      "source": [
        "Subtrair(100,1)"
      ],
      "execution_count": 0,
      "outputs": []
    },
    {
      "cell_type": "markdown",
      "metadata": {
        "id": "0PLlo4ayvE7o",
        "colab_type": "text"
      },
      "source": [
        "##>>>Métodos\n",
        "_________________________________________\n",
        "Todo método é uma função..!"
      ]
    },
    {
      "cell_type": "code",
      "metadata": {
        "id": "FoN9zL1zvOi5",
        "colab_type": "code",
        "colab": {}
      },
      "source": [
        "# Estrutura básica de um método em python\n",
        "class SuaClass:\n",
        "  def SeuMétodo(self):"
      ],
      "execution_count": 0,
      "outputs": []
    },
    {
      "cell_type": "code",
      "metadata": {
        "id": "8m41eWUovpox",
        "colab_type": "code",
        "colab": {}
      },
      "source": [
        "# dir() retorna a lista de todos métodos/atributos de objeto solicitado\n",
        "x = \"OLÁ, EU SOU UMA STRING!\"\n",
        "print(dir(x))\n",
        "# ou dir(str), afinal, python sabe que é uma variável tipo string"
      ],
      "execution_count": 0,
      "outputs": []
    },
    {
      "cell_type": "code",
      "metadata": {
        "id": "mQHyvULlwhzF",
        "colab_type": "code",
        "colab": {}
      },
      "source": [
        "#help + método retorna o conceito e aplicação do método inserido\n",
        "help(str.lower)"
      ],
      "execution_count": 0,
      "outputs": []
    },
    {
      "cell_type": "code",
      "metadata": {
        "id": "8WTZO61Gw247",
        "colab_type": "code",
        "colab": {}
      },
      "source": [
        "#Depois de listar os métodos com dir() e ler a documentação de mesmmo com help() é hora de testar\n",
        "print(x.lower())"
      ],
      "execution_count": 0,
      "outputs": []
    },
    {
      "cell_type": "code",
      "metadata": {
        "id": "wMZU1cWoziwY",
        "colab_type": "code",
        "colab": {}
      },
      "source": [
        ""
      ],
      "execution_count": 0,
      "outputs": []
    },
    {
      "cell_type": "markdown",
      "metadata": {
        "id": "CY1mTRZO11nh",
        "colab_type": "text"
      },
      "source": [
        "##>>>Funções Orientadas a Expressões\n",
        "_________________________________________\n",
        "Funções in-line, comunidade com map(), filter(), reduce(). Não são funções em bloco, mas sim funções curtas e escritas de formas simples.\n",
        "\n",
        "###Lambda(função,sequência)\n",
        "Cria função de forma rápida e anônima, sem o \"Del\"..."
      ]
    },
    {
      "cell_type": "code",
      "metadata": {
        "id": "Uwa9VR0s3I3H",
        "colab_type": "code",
        "colab": {}
      },
      "source": [
        "raiz = lambda x: x**2\n",
        "print(raiz(2))"
      ],
      "execution_count": 0,
      "outputs": []
    },
    {
      "cell_type": "markdown",
      "metadata": {
        "id": "Y0fmIJB63b-i",
        "colab_type": "text"
      },
      "source": [
        "###Map(funções,sequência)\n",
        "Mapeia e aplica uma função a todos elementos da sequência"
      ]
    },
    {
      "cell_type": "code",
      "metadata": {
        "id": "Yjeuvud53uLw",
        "colab_type": "code",
        "colab": {}
      },
      "source": [
        "a\n",
        "seq = [1,2,3,4,5]\n",
        "print(list(map(lambda x: x**2, seq)))\n"
      ],
      "execution_count": 0,
      "outputs": []
    },
    {
      "cell_type": "markdown",
      "metadata": {
        "id": "xc1-6QDh4JLO",
        "colab_type": "text"
      },
      "source": [
        "###Reduce(função,sequência)\n",
        "Aplica a sequência a uma função e reduz a um único valor final"
      ]
    },
    {
      "cell_type": "code",
      "metadata": {
        "id": "LVJwNi7z4Epr",
        "colab_type": "code",
        "colab": {}
      },
      "source": [
        "from functools import reduce\n",
        "reduce((lambda x,y:x*y), [1,2,3,4,5])"
      ],
      "execution_count": 0,
      "outputs": []
    },
    {
      "cell_type": "markdown",
      "metadata": {
        "id": "hFIoIY0L5Ay8",
        "colab_type": "text"
      },
      "source": [
        "##Filter\n",
        "Filtra os elementos da sequência que retornarem True\n"
      ]
    },
    {
      "cell_type": "code",
      "metadata": {
        "id": "WsmP1Fhx4zLO",
        "colab_type": "code",
        "colab": {}
      },
      "source": [
        "seq = range(-5,5)\n",
        "negativos = list(filter(lambda x: x<0, seq))\n",
        "print(negativos)"
      ],
      "execution_count": 0,
      "outputs": []
    },
    {
      "cell_type": "markdown",
      "metadata": {
        "id": "EPtX5Mv-7Irz",
        "colab_type": "text"
      },
      "source": [
        "##List Comprehension\n",
        "Performace mais alta que o FOR, desenvolve loops de repetição dentro de sequências"
      ]
    },
    {
      "cell_type": "code",
      "metadata": {
        "id": "-okQAlMg52mZ",
        "colab_type": "code",
        "colab": {}
      },
      "source": [
        "mlt = [i for i in range(33) if i%3==0]\n",
        "print(mlt)"
      ],
      "execution_count": 0,
      "outputs": []
    },
    {
      "cell_type": "markdown",
      "metadata": {
        "id": "iqBbd2aa797I",
        "colab_type": "text"
      },
      "source": [
        "##Zip\n",
        "Zipa duas sequência retornando apenas uma com o número de elementos da menor"
      ]
    },
    {
      "cell_type": "code",
      "metadata": {
        "id": "-K7HYXvV70Mv",
        "colab_type": "code",
        "colab": {}
      },
      "source": [
        "seq1 = [1,2,3]\n",
        "seq2 = ['um','dois','três']\n",
        "zipados = list(zip(seq1,seq2))\n",
        "print(zipados)"
      ],
      "execution_count": 0,
      "outputs": []
    },
    {
      "cell_type": "markdown",
      "metadata": {
        "id": "MpcXt1OV9AvV",
        "colab_type": "text"
      },
      "source": [
        "##Enumerate\n",
        "Numera os valores com o indice de cada valor"
      ]
    },
    {
      "cell_type": "code",
      "metadata": {
        "id": "PQjQ3QvM89eZ",
        "colab_type": "code",
        "colab": {}
      },
      "source": [
        "seq = [1,2,3,4]\n",
        "for x in enumerate(seq):\n",
        "  print(x)"
      ],
      "execution_count": 0,
      "outputs": []
    },
    {
      "cell_type": "code",
      "metadata": {
        "id": "R8Upyt-_9aRH",
        "colab_type": "code",
        "colab": {}
      },
      "source": [
        ""
      ],
      "execution_count": 0,
      "outputs": []
    },
    {
      "cell_type": "markdown",
      "metadata": {
        "id": "69Y8XZ0r-H9a",
        "colab_type": "text"
      },
      "source": [
        "##Pacotes(lib)"
      ]
    },
    {
      "cell_type": "code",
      "metadata": {
        "id": "JiBkGzGL-Riy",
        "colab_type": "code",
        "colab": {}
      },
      "source": [
        "\n",
        "\n",
        "!pip install nltk"
      ],
      "execution_count": 0,
      "outputs": []
    },
    {
      "cell_type": "code",
      "metadata": {
        "id": "Afn7J8mHp14k",
        "colab_type": "code",
        "colab": {}
      },
      "source": [
        "# pacote built-in\n",
        "import random\n",
        "import os\n",
        "import math"
      ],
      "execution_count": 0,
      "outputs": []
    },
    {
      "cell_type": "code",
      "metadata": {
        "id": "OlIY-jCAqVtn",
        "colab_type": "code",
        "colab": {}
      },
      "source": [
        "#Listar os módulos de random\n",
        "dir(random)"
      ],
      "execution_count": 0,
      "outputs": []
    },
    {
      "cell_type": "code",
      "metadata": {
        "id": "YhYVkRKBqcOM",
        "colab_type": "code",
        "colab": {}
      },
      "source": [
        "#testar um de seus módulos\n",
        "print(random.choices([\"Windows\", \"Linux\", \"MacOS\"]))"
      ],
      "execution_count": 0,
      "outputs": []
    },
    {
      "cell_type": "code",
      "metadata": {
        "id": "9-fHbCz-rRE2",
        "colab_type": "code",
        "colab": {}
      },
      "source": [
        "#Listar os módulos de os\n",
        "dir(os)"
      ],
      "execution_count": 0,
      "outputs": []
    },
    {
      "cell_type": "code",
      "metadata": {
        "id": "XaagCxV7sHvA",
        "colab_type": "code",
        "colab": {}
      },
      "source": [
        "#Testando um de seus módulos\n",
        "os.getcwd()"
      ],
      "execution_count": 0,
      "outputs": []
    },
    {
      "cell_type": "code",
      "metadata": {
        "id": "yIloGjJPsUdT",
        "colab_type": "code",
        "colab": {}
      },
      "source": [
        "#Listar os módulos de math\n",
        "dir(math)"
      ],
      "execution_count": 0,
      "outputs": []
    },
    {
      "cell_type": "code",
      "metadata": {
        "id": "C2koIgCUtJBQ",
        "colab_type": "code",
        "colab": {}
      },
      "source": [
        "print(math.pi)"
      ],
      "execution_count": 0,
      "outputs": []
    },
    {
      "cell_type": "code",
      "metadata": {
        "id": "STaMqzGKtOOg",
        "colab_type": "code",
        "colab": {}
      },
      "source": [
        "print(math.pow)"
      ],
      "execution_count": 0,
      "outputs": []
    },
    {
      "cell_type": "code",
      "metadata": {
        "id": "QLkLWegxtUP5",
        "colab_type": "code",
        "colab": {}
      },
      "source": [
        "print(math.tau)"
      ],
      "execution_count": 0,
      "outputs": []
    },
    {
      "cell_type": "markdown",
      "metadata": {
        "id": "42nkaZ9DuOM2",
        "colab_type": "text"
      },
      "source": [
        "##>>>Progamação Orientada a Objetos\n",
        "Maiores informações [AQUI](https://pt.wikipedia.org/wiki/Orienta%C3%A7%C3%A3o_a_objetos)\n",
        "_________________________________________\n",
        "Dados>>>Atributos/Comportamentos>>>Métodos"
      ]
    },
    {
      "cell_type": "markdown",
      "metadata": {
        "id": "DGMvId5Cuuyk",
        "colab_type": "text"
      },
      "source": [
        "##>>>Classes\n",
        "_________________________________________"
      ]
    },
    {
      "cell_type": "code",
      "metadata": {
        "id": "9NqNhzF2tYNO",
        "colab_type": "code",
        "colab": {}
      },
      "source": [
        "#Classes\n",
        "class Carro:\n",
        "  pass"
      ],
      "execution_count": 0,
      "outputs": []
    },
    {
      "cell_type": "code",
      "metadata": {
        "id": "NA36IW0-u7LJ",
        "colab_type": "code",
        "colab": {}
      },
      "source": [
        "#Criando uma classe\n",
        "class Pessoas:\n",
        "  def __init__(self,nome,idade):\n",
        "    self.nome = nome\n",
        "    self.idade = idade\n",
        "b1 = Pessoas(\"Fernando\", 41)\n",
        "print(b1.nome)"
      ],
      "execution_count": 0,
      "outputs": []
    },
    {
      "cell_type": "code",
      "metadata": {
        "id": "_LHv3aJ7u_B7",
        "colab_type": "code",
        "colab": {}
      },
      "source": [
        "#Atributo Getter\n",
        "getattr(b1,\"nome\")"
      ],
      "execution_count": 0,
      "outputs": []
    },
    {
      "cell_type": "code",
      "metadata": {
        "id": "Br0lxcnSvvCp",
        "colab_type": "code",
        "colab": {}
      },
      "source": [
        "#Atributo Setter\n",
        "setattr(b1,\"nome\", \"Fer\")\n",
        "print(b1.nome)"
      ],
      "execution_count": 0,
      "outputs": []
    },
    {
      "cell_type": "markdown",
      "metadata": {
        "id": "XLmmq5oHv_Uq",
        "colab_type": "text"
      },
      "source": [
        "##>>>Objetos"
      ]
    },
    {
      "cell_type": "code",
      "metadata": {
        "id": "OI7RkgAHwEkr",
        "colab_type": "code",
        "colab": {}
      },
      "source": [
        "#Objetos são instâncias de uma classe\n",
        "fusca = Carro()\n",
        "print(fusca)\n"
      ],
      "execution_count": 0,
      "outputs": []
    },
    {
      "cell_type": "code",
      "metadata": {
        "id": "iHKHTLCYzDt5",
        "colab_type": "code",
        "colab": {}
      },
      "source": [
        "#Atributos e o método __int__(construtor)\n",
        "class Carro:\n",
        "  def __init__(self,rodas,tanque,bancos,velocidade):\n",
        "    self.rodas = rodas\n",
        "    self.tanque = tanque\n",
        "    self.bancos = bancos\n",
        "    self.velocidade = velocidade"
      ],
      "execution_count": 0,
      "outputs": []
    },
    {
      "cell_type": "code",
      "metadata": {
        "id": "zmWRSaGH0TV2",
        "colab_type": "code",
        "colab": {}
      },
      "source": [
        "#Criando um objeto com atributos \n",
        "tesla = Carro(4,\"200 litros\", 5,\"250km/h\")"
      ],
      "execution_count": 0,
      "outputs": []
    },
    {
      "cell_type": "code",
      "metadata": {
        "id": "REGSG98g0mNy",
        "colab_type": "code",
        "colab": {}
      },
      "source": [
        "#Acessando os valores\n",
        "print(f\"Nosso veículo possui {tesla.rodas} rodas, tanque com capacidade de até {tesla.tanque}, {tesla.bancos} assentos e acelera até {tesla.velocidade}\")"
      ],
      "execution_count": 0,
      "outputs": []
    },
    {
      "cell_type": "code",
      "metadata": {
        "id": "pjThXxVc1Ojl",
        "colab_type": "code",
        "colab": {}
      },
      "source": [
        "#Alterando valores\n",
        "tesla.rodas = 2\n",
        "print(tesla.rodas)"
      ],
      "execution_count": 0,
      "outputs": []
    },
    {
      "cell_type": "markdown",
      "metadata": {
        "id": "APWylRRr2etE",
        "colab_type": "text"
      },
      "source": [
        "##>>>Métodos\n",
        "_________________________________________"
      ]
    },
    {
      "cell_type": "code",
      "metadata": {
        "id": "WsOBXb3r2cHP",
        "colab_type": "code",
        "colab": {}
      },
      "source": [
        "#Criando método com valor default\n",
        "class Turista():\n",
        "  def __init__(self, nome, nacionalidade = 'brasileiro'):\n",
        "    self.nome = nome\n",
        "    self.nacionalidade = nacionalidade"
      ],
      "execution_count": 0,
      "outputs": []
    },
    {
      "cell_type": "code",
      "metadata": {
        "id": "QaD97wyY3MM5",
        "colab_type": "code",
        "colab": {}
      },
      "source": [
        "#Criando diversos métodos para uam mesma classe\n",
        "class Turista():\n",
        "  def __init__(self, nome, nacionalidade = 'brasileiro'):\n",
        "    self.nome = nome\n",
        "    self.nacionalidade = nacionalidade\n",
        "  def ConfigNacionalidade(self, nova_nacionalidade):\n",
        "    self.nacionalidade = nova_nacionalidade\n",
        "  def ConfigNome(self, novo_nome):\n",
        "    self.nome = novo_nome  "
      ],
      "execution_count": 0,
      "outputs": []
    },
    {
      "cell_type": "code",
      "metadata": {
        "id": "P-26PXS04NNR",
        "colab_type": "code",
        "colab": {}
      },
      "source": [
        "t1 = Turista(\"Tony Stark\")\n",
        "print(t1.nome, t1.nacionalidade)"
      ],
      "execution_count": 0,
      "outputs": []
    },
    {
      "cell_type": "code",
      "metadata": {
        "id": "w0eh-Tmn4jUp",
        "colab_type": "code",
        "colab": {}
      },
      "source": [
        "t1.ConfigNacionalidade(\"Norte Americano\")\n",
        "print(t1.nome, t1.nacionalidade)"
      ],
      "execution_count": 0,
      "outputs": []
    },
    {
      "cell_type": "markdown",
      "metadata": {
        "id": "XN5jbWl25BLz",
        "colab_type": "text"
      },
      "source": [
        "##>>>Herança\n",
        "_________________________________________\n",
        "Ao criar uma nova classe você pode querer \"herdar\" os atributos de outra classe."
      ]
    },
    {
      "cell_type": "code",
      "metadata": {
        "id": "b5CO40yD49Ud",
        "colab_type": "code",
        "colab": {}
      },
      "source": [
        "class Carro:\n",
        "  def __init__(self,rodas,tanque,bancos,velocidade):\n",
        "    self.rodas = rodas\n",
        "    self.tanque = tanque\n",
        "    self.bancos = bancos\n",
        "    self.velocidade = velocidade\n",
        "  \n",
        "  #classe Carro Elétrico\n",
        "  class CarroEletrico:\n",
        "    def __init__(self,rodas,tanque,bancos,velocidade):\n",
        "      Carro.__init__(self,rodas,tanque,bancos,velocidade)\n",
        "\n",
        "  carrinho = CarroEletrico(4,\"100 litros\", 5,\"100 km/h\")\n",
        "  print(carrinho.rodas)"
      ],
      "execution_count": 0,
      "outputs": []
    },
    {
      "cell_type": "markdown",
      "metadata": {
        "id": "KrM5Sv9G6u_7",
        "colab_type": "text"
      },
      "source": [
        "##>>>Diferença entre Métodos e Funções\n",
        "_________________________________________\n",
        "Função: bloco para realizar especifica, podende retornar ou não, valores.\n",
        "Método: Tem de estar sempre associado e objetos/classes."
      ]
    },
    {
      "cell_type": "code",
      "metadata": {
        "id": "hfTGUaU56ZAz",
        "colab_type": "code",
        "colab": {}
      },
      "source": [
        "#função \n",
        "def soma(n1,n2):\n",
        "  return(n1+n2)\n",
        "soma(1,1)\n"
      ],
      "execution_count": 0,
      "outputs": []
    },
    {
      "cell_type": "code",
      "metadata": {
        "id": "Y7D4HKLm7kbG",
        "colab_type": "code",
        "colab": {}
      },
      "source": [
        "#Método\n",
        "class Metodo(object):\n",
        "  def metod(self):\n",
        "    print(\"Eu sou um método\")\n",
        "n1 = Metodo()\n",
        "n1.metod()"
      ],
      "execution_count": 0,
      "outputs": []
    },
    {
      "cell_type": "markdown",
      "metadata": {
        "id": "8_p6Dx0y8YKO",
        "colab_type": "text"
      },
      "source": [
        "##>>>Arquivos\n",
        "_________________________________________"
      ]
    },
    {
      "cell_type": "code",
      "metadata": {
        "id": "JJ9eHZLP7_MG",
        "colab_type": "code",
        "colab": {}
      },
      "source": [
        "arq1 = open(\"arquivodetexto.txt\", \"r\")\n",
        "print(arq1.read())"
      ],
      "execution_count": 0,
      "outputs": []
    },
    {
      "cell_type": "markdown",
      "metadata": {
        "id": "7yo7qVLHCZs5",
        "colab_type": "text"
      },
      "source": [
        "###Upload de arquivos do seu sistema de arquivos local\n",
        "_________________________________________\n",
        "files upload retorna um dicionário dos arquivos enviados. O dicionário é digitado pelo nome do arquivo e os valores são os dados que foram enviados."
      ]
    },
    {
      "cell_type": "code",
      "metadata": {
        "id": "eri2eL_zCYHO",
        "colab_type": "code",
        "colab": {}
      },
      "source": [
        "from google.colab import files\n",
        "up = files.upload()"
      ],
      "execution_count": 0,
      "outputs": []
    },
    {
      "cell_type": "markdown",
      "metadata": {
        "id": "IdkrLW-wDtO0",
        "colab_type": "text"
      },
      "source": [
        "##Upload direto do Google Drive\n",
        "_________________________________________\n",
        "O exemplo abaixo como acessar seu Google Drive usando um Código de autorização e como gravar/"
      ]
    },
    {
      "cell_type": "code",
      "metadata": {
        "id": "S7IAlKdvDHVB",
        "colab_type": "code",
        "colab": {}
      },
      "source": [
        "from google.colab import drive\n",
        "drive.mount('/content/drive')"
      ],
      "execution_count": 0,
      "outputs": []
    },
    {
      "cell_type": "markdown",
      "metadata": {
        "id": "gzlV8wfTExo_",
        "colab_type": "text"
      },
      "source": [
        "##>>>Modos de abertura"
      ]
    },
    {
      "cell_type": "code",
      "metadata": {
        "id": "iCUNn-OQEqWp",
        "colab_type": "code",
        "colab": {}
      },
      "source": [
        "print(arq1.tell())\n",
        "arq1.close()"
      ],
      "execution_count": 0,
      "outputs": []
    },
    {
      "cell_type": "code",
      "metadata": {
        "id": "NvIu4qqAJC5b",
        "colab_type": "code",
        "colab": {}
      },
      "source": [
        "arquivo = open(\"arquivodetexto.txt\", \"w\")\n",
        "arquivo.write(\"Nova linha inserida via Python.\")\n",
        "arquivo.close()"
      ],
      "execution_count": 0,
      "outputs": []
    },
    {
      "cell_type": "code",
      "metadata": {
        "id": "gy-RKXx7J5yX",
        "colab_type": "code",
        "colab": {}
      },
      "source": [
        "arquivo = open(\"arquivodetexto.txt\", \"r\")\n",
        "print(arquivo.read())\n",
        "arquivo.close()"
      ],
      "execution_count": 0,
      "outputs": []
    },
    {
      "cell_type": "code",
      "metadata": {
        "id": "B0_Vm9jsKcEm",
        "colab_type": "code",
        "colab": {}
      },
      "source": [
        "with open(\"teste.txt\",\"w\") as arq:\n",
        "  arq.write(\"Apenas testando...\")  "
      ],
      "execution_count": 0,
      "outputs": []
    },
    {
      "cell_type": "code",
      "metadata": {
        "id": "9VPP7lVjLEuV",
        "colab_type": "code",
        "colab": {}
      },
      "source": [
        "with open (\"teste.txt\",\"r\") as arq2:\n",
        "print(arq2.read())\n",
        "\n"
      ],
      "execution_count": 0,
      "outputs": []
    },
    {
      "cell_type": "code",
      "metadata": {
        "id": "kFQDSE9DLX2C",
        "colab_type": "code",
        "colab": {}
      },
      "source": [
        ""
      ],
      "execution_count": 0,
      "outputs": []
    }
  ]
}