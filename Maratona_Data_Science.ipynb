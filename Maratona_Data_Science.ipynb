{
  "nbformat": 4,
  "nbformat_minor": 0,
  "metadata": {
    "colab": {
      "name": "Maratona Data Science",
      "provenance": [],
      "authorship_tag": "ABX9TyPTixW2/f3kc54Ij2nj0OLK",
      "include_colab_link": true
    },
    "kernelspec": {
      "name": "python3",
      "display_name": "Python 3"
    }
  },
  "cells": [
    {
      "cell_type": "markdown",
      "metadata": {
        "id": "view-in-github",
        "colab_type": "text"
      },
      "source": [
        "<a href=\"https://colab.research.google.com/github/Nandaodevmax/Pandas/blob/master/Maratona_Data_Science.ipynb\" target=\"_parent\"><img src=\"https://colab.research.google.com/assets/colab-badge.svg\" alt=\"Open In Colab\"/></a>"
      ]
    },
    {
      "cell_type": "markdown",
      "metadata": {
        "id": "4E2iKzGZuZlf",
        "colab_type": "text"
      },
      "source": [
        "##1° Aula Maratona Data Science"
      ]
    },
    {
      "cell_type": "code",
      "metadata": {
        "id": "eIN4-5q0vt2Q",
        "colab_type": "code",
        "colab": {
          "base_uri": "https://localhost:8080/",
          "height": 34
        },
        "outputId": "7a1ad4fe-2aee-4ba8-ed12-5706cf6d58c9"
      },
      "source": [
        "print(\"Hello, Word!\")x"
      ],
      "execution_count": 2,
      "outputs": [
        {
          "output_type": "stream",
          "text": [
            "Hello, Word!\n"
          ],
          "name": "stdout"
        }
      ]
    },
    {
      "cell_type": "code",
      "metadata": {
        "id": "OjjLKwgbyh_Z",
        "colab_type": "code",
        "colab": {
          "base_uri": "https://localhost:8080/",
          "height": 50
        },
        "outputId": "d0e28f79-d3e7-43ee-d518-3fdd3f5596eb"
      },
      "source": [
        "x = input(\"Hello \")\n",
        "print(f\"Hello {x} \")"
      ],
      "execution_count": 4,
      "outputs": [
        {
          "output_type": "stream",
          "text": [
            "Hello Word!\n",
            "Hello Word! \n"
          ],
          "name": "stdout"
        }
      ]
    },
    {
      "cell_type": "code",
      "metadata": {
        "id": "nnL_CUgsy-Qf",
        "colab_type": "code",
        "colab": {
          "base_uri": "https://localhost:8080/",
          "height": 34
        },
        "outputId": "2de9657a-ad98-4e27-b398-94488eee3fe0"
      },
      "source": [
        "# inteiro\n",
        "a = 1\n",
        "print(type (a))"
      ],
      "execution_count": 6,
      "outputs": [
        {
          "output_type": "stream",
          "text": [
            "<class 'int'>\n"
          ],
          "name": "stdout"
        }
      ]
    },
    {
      "cell_type": "code",
      "metadata": {
        "id": "3F0pfLpS0A92",
        "colab_type": "code",
        "colab": {
          "base_uri": "https://localhost:8080/",
          "height": 34
        },
        "outputId": "35224707-f837-4bd1-a728-876b7a57437a"
      },
      "source": [
        "# STRING\n",
        "c = \"Python\"\n",
        "print(type(c))"
      ],
      "execution_count": 8,
      "outputs": [
        {
          "output_type": "stream",
          "text": [
            "<class 'str'>\n"
          ],
          "name": "stdout"
        }
      ]
    },
    {
      "cell_type": "code",
      "metadata": {
        "id": "poJ1lWN50Qef",
        "colab_type": "code",
        "colab": {
          "base_uri": "https://localhost:8080/",
          "height": 34
        },
        "outputId": "851946ea-3ac6-40f3-90a0-e79505b1c1ce"
      },
      "source": [
        "# BOOLEANOS\n",
        "d = True\n",
        "print(type(d))"
      ],
      "execution_count": 10,
      "outputs": [
        {
          "output_type": "stream",
          "text": [
            "<class 'bool'>\n"
          ],
          "name": "stdout"
        }
      ]
    },
    {
      "cell_type": "code",
      "metadata": {
        "id": "_jVg1dma0mkR",
        "colab_type": "code",
        "colab": {}
      },
      "source": [
        ""
      ],
      "execution_count": 0,
      "outputs": []
    },
    {
      "cell_type": "markdown",
      "metadata": {
        "id": "npAn7XWZ0xa9",
        "colab_type": "text"
      },
      "source": [
        "##Convertendo os tipos"
      ]
    },
    {
      "cell_type": "code",
      "metadata": {
        "id": "M9MRs44603hG",
        "colab_type": "code",
        "colab": {
          "base_uri": "https://localhost:8080/",
          "height": 34
        },
        "outputId": "48439e9b-9bd4-4e87-f1da-641e10480416"
      },
      "source": [
        "e = int(a)\n",
        "print(e, type(e))"
      ],
      "execution_count": 17,
      "outputs": [
        {
          "output_type": "stream",
          "text": [
            "1 <class 'int'>\n"
          ],
          "name": "stdout"
        }
      ]
    },
    {
      "cell_type": "code",
      "metadata": {
        "id": "3pc5-ivo1Fq3",
        "colab_type": "code",
        "colab": {
          "base_uri": "https://localhost:8080/",
          "height": 34
        },
        "outputId": "f65c4d41-210c-4f29-bd42-8b98961bca1c"
      },
      "source": [
        "f = float(d)\n",
        "print(f, type(f))"
      ],
      "execution_count": 18,
      "outputs": [
        {
          "output_type": "stream",
          "text": [
            "1.0 <class 'float'>\n"
          ],
          "name": "stdout"
        }
      ]
    },
    {
      "cell_type": "code",
      "metadata": {
        "id": "FJ-4DS61104p",
        "colab_type": "code",
        "colab": {
          "base_uri": "https://localhost:8080/",
          "height": 34
        },
        "outputId": "64dda6c3-1f48-41c1-f42f-79bb74d94c31"
      },
      "source": [
        "g = str(a)\n",
        "print(g, type(g))"
      ],
      "execution_count": 19,
      "outputs": [
        {
          "output_type": "stream",
          "text": [
            "1 <class 'str'>\n"
          ],
          "name": "stdout"
        }
      ]
    },
    {
      "cell_type": "code",
      "metadata": {
        "id": "xRganbDy2BuF",
        "colab_type": "code",
        "colab": {}
      },
      "source": [
        ""
      ],
      "execution_count": 0,
      "outputs": []
    },
    {
      "cell_type": "markdown",
      "metadata": {
        "id": "MRsUBCtn3950",
        "colab_type": "text"
      },
      "source": [
        "##Operadores"
      ]
    },
    {
      "cell_type": "code",
      "metadata": {
        "id": "QCslAZQ04Bqh",
        "colab_type": "code",
        "colab": {
          "base_uri": "https://localhost:8080/",
          "height": 34
        },
        "outputId": "574674f9-a06c-45e7-91a8-4e26f7c38ae9"
      },
      "source": [
        "# Soma strings\n",
        "print(\"chat\", \"bot\")"
      ],
      "execution_count": 20,
      "outputs": [
        {
          "output_type": "stream",
          "text": [
            "chat bot\n"
          ],
          "name": "stdout"
        }
      ]
    },
    {
      "cell_type": "code",
      "metadata": {
        "id": "h2EPkMqj4PO4",
        "colab_type": "code",
        "colab": {
          "base_uri": "https://localhost:8080/",
          "height": 34
        },
        "outputId": "2c8d513f-f8ec-42b8-fb95-fe3d9914e8ff"
      },
      "source": [
        "#Subtração\n",
        "print(150-50)"
      ],
      "execution_count": 21,
      "outputs": [
        {
          "output_type": "stream",
          "text": [
            "100\n"
          ],
          "name": "stdout"
        }
      ]
    },
    {
      "cell_type": "code",
      "metadata": {
        "id": "lYA9SmNH4XlQ",
        "colab_type": "code",
        "colab": {
          "base_uri": "https://localhost:8080/",
          "height": 34
        },
        "outputId": "4f510d24-6419-4f53-ac8b-41eaf88c47d6"
      },
      "source": [
        "#Multiplicação\n",
        "print(5*8)"
      ],
      "execution_count": 22,
      "outputs": [
        {
          "output_type": "stream",
          "text": [
            "40\n"
          ],
          "name": "stdout"
        }
      ]
    },
    {
      "cell_type": "code",
      "metadata": {
        "id": "Ha9RIiMh4eQW",
        "colab_type": "code",
        "colab": {
          "base_uri": "https://localhost:8080/",
          "height": 34
        },
        "outputId": "14304ab6-5d70-43af-c811-a99a97a84ec5"
      },
      "source": [
        "#Divisão\n",
        "print(100/3)"
      ],
      "execution_count": 23,
      "outputs": [
        {
          "output_type": "stream",
          "text": [
            "33.333333333333336\n"
          ],
          "name": "stdout"
        }
      ]
    },
    {
      "cell_type": "code",
      "metadata": {
        "id": "XgL9jaIC4jle",
        "colab_type": "code",
        "colab": {
          "base_uri": "https://localhost:8080/",
          "height": 34
        },
        "outputId": "2d97a2f0-8c3a-4abc-d8e5-1c6c2214909d"
      },
      "source": [
        "#Exponeciação\n",
        "print(2**3)"
      ],
      "execution_count": 24,
      "outputs": [
        {
          "output_type": "stream",
          "text": [
            "8\n"
          ],
          "name": "stdout"
        }
      ]
    },
    {
      "cell_type": "code",
      "metadata": {
        "id": "sndS5l3-4ruE",
        "colab_type": "code",
        "colab": {
          "base_uri": "https://localhost:8080/",
          "height": 34
        },
        "outputId": "36d9e5e5-231d-4c83-8adc-bda1fe68bdc8"
      },
      "source": [
        "#Parte inteira da divisão\n",
        "print(100//3)"
      ],
      "execution_count": 25,
      "outputs": [
        {
          "output_type": "stream",
          "text": [
            "33\n"
          ],
          "name": "stdout"
        }
      ]
    },
    {
      "cell_type": "code",
      "metadata": {
        "id": "IHXbnced41Zn",
        "colab_type": "code",
        "colab": {
          "base_uri": "https://localhost:8080/",
          "height": 34
        },
        "outputId": "5c42273b-fcff-418d-fcfb-8daf68868cee"
      },
      "source": [
        "#Resto da divisão\n",
        "print(100%3)"
      ],
      "execution_count": 26,
      "outputs": [
        {
          "output_type": "stream",
          "text": [
            "1\n"
          ],
          "name": "stdout"
        }
      ]
    },
    {
      "cell_type": "code",
      "metadata": {
        "id": "zqYHo-my4-AD",
        "colab_type": "code",
        "colab": {}
      },
      "source": [
        ""
      ],
      "execution_count": 0,
      "outputs": []
    },
    {
      "cell_type": "markdown",
      "metadata": {
        "id": "38NP5X3t4_xP",
        "colab_type": "text"
      },
      "source": [
        "##Regras de pendências(PEMDAS)"
      ]
    },
    {
      "cell_type": "code",
      "metadata": {
        "id": "goEoq7dS5Ibl",
        "colab_type": "code",
        "colab": {
          "base_uri": "https://localhost:8080/",
          "height": 34
        },
        "outputId": "2c741a8d-e5d8-4cee-ef00-113ba31e0fb0"
      },
      "source": [
        "#MAIOR >\n",
        "print(10>0)"
      ],
      "execution_count": 27,
      "outputs": [
        {
          "output_type": "stream",
          "text": [
            "True\n"
          ],
          "name": "stdout"
        }
      ]
    },
    {
      "cell_type": "code",
      "metadata": {
        "id": "lBY6cKQv5v3s",
        "colab_type": "code",
        "colab": {
          "base_uri": "https://localhost:8080/",
          "height": 34
        },
        "outputId": "fae1c884-b8ad-46bb-99e5-8ca061c283e4"
      },
      "source": [
        "#MENOR <\n",
        "print(0<10)"
      ],
      "execution_count": 28,
      "outputs": [
        {
          "output_type": "stream",
          "text": [
            "True\n"
          ],
          "name": "stdout"
        }
      ]
    },
    {
      "cell_type": "code",
      "metadata": {
        "id": "o4yPy5qJ5477",
        "colab_type": "code",
        "colab": {
          "base_uri": "https://localhost:8080/",
          "height": 34
        },
        "outputId": "5ad6b675-d703-4d6b-d817-f5e2f51fd0ba"
      },
      "source": [
        "#MAIOR OU IGUAL>=\n",
        "print(10 >= 10)"
      ],
      "execution_count": 29,
      "outputs": [
        {
          "output_type": "stream",
          "text": [
            "True\n"
          ],
          "name": "stdout"
        }
      ]
    },
    {
      "cell_type": "code",
      "metadata": {
        "id": "h1zWyZeY6GH8",
        "colab_type": "code",
        "colab": {
          "base_uri": "https://localhost:8080/",
          "height": 34
        },
        "outputId": "fbc1e92e-2911-4ad5-d163-5459eefe07f1"
      },
      "source": [
        "#MENOR OU IGUAL<=\n",
        "print(10<=10)"
      ],
      "execution_count": 30,
      "outputs": [
        {
          "output_type": "stream",
          "text": [
            "True\n"
          ],
          "name": "stdout"
        }
      ]
    },
    {
      "cell_type": "code",
      "metadata": {
        "id": "hnaCn4bZ6Mt4",
        "colab_type": "code",
        "colab": {
          "base_uri": "https://localhost:8080/",
          "height": 34
        },
        "outputId": "020657b4-792a-4754-90a2-22ae7e29fb13"
      },
      "source": [
        "#IGUAL ==\n",
        "print(10==10)"
      ],
      "execution_count": 31,
      "outputs": [
        {
          "output_type": "stream",
          "text": [
            "True\n"
          ],
          "name": "stdout"
        }
      ]
    },
    {
      "cell_type": "code",
      "metadata": {
        "id": "ErgTYUh16UI2",
        "colab_type": "code",
        "colab": {
          "base_uri": "https://localhost:8080/",
          "height": 34
        },
        "outputId": "ce04e64e-4701-4bd5-9bb1-1c52f912b76a"
      },
      "source": [
        "#DIFERENTE !=\n",
        "print(10 != 10)\n"
      ],
      "execution_count": 32,
      "outputs": [
        {
          "output_type": "stream",
          "text": [
            "False\n"
          ],
          "name": "stdout"
        }
      ]
    },
    {
      "cell_type": "code",
      "metadata": {
        "id": "T41hnMgW6k7M",
        "colab_type": "code",
        "colab": {}
      },
      "source": [
        ""
      ],
      "execution_count": 0,
      "outputs": []
    },
    {
      "cell_type": "markdown",
      "metadata": {
        "id": "7G8zv9m56mrr",
        "colab_type": "text"
      },
      "source": [
        "## Operadores in"
      ]
    },
    {
      "cell_type": "markdown",
      "metadata": {
        "id": "Js84Yj_o7NNt",
        "colab_type": "text"
      },
      "source": [
        "Operador IN verifica se o elemento está contido na estrutura citada"
      ]
    },
    {
      "cell_type": "code",
      "metadata": {
        "id": "Ta4EsITy7Yfh",
        "colab_type": "code",
        "colab": {
          "base_uri": "https://localhost:8080/",
          "height": 34
        },
        "outputId": "afb3cf01-b5b3-47b7-85fe-b88dc26ac391"
      },
      "source": [
        "x = \"python\"\n",
        "print(\"p\" in x)"
      ],
      "execution_count": 33,
      "outputs": [
        {
          "output_type": "stream",
          "text": [
            "True\n"
          ],
          "name": "stdout"
        }
      ]
    },
    {
      "cell_type": "code",
      "metadata": {
        "id": "L0ssrmuC7jKW",
        "colab_type": "code",
        "colab": {}
      },
      "source": [
        ""
      ],
      "execution_count": 0,
      "outputs": []
    },
    {
      "cell_type": "markdown",
      "metadata": {
        "id": "aNj-vwXh79mD",
        "colab_type": "text"
      },
      "source": [
        "##>>> Exercícios\n",
        "1.Crie um algoritmo que solicite do usuário 2 números e apresente a soma de ambos(fácil)"
      ]
    },
    {
      "cell_type": "code",
      "metadata": {
        "id": "4VsErgZ09LFW",
        "colab_type": "code",
        "colab": {}
      },
      "source": [
        ""
      ],
      "execution_count": 0,
      "outputs": []
    },
    {
      "cell_type": "markdown",
      "metadata": {
        "id": "h-OK4Kjc9cq3",
        "colab_type": "text"
      },
      "source": [
        "2.Crie um algoritmo que solicite o usuário 2 números e apresente o intervalo númerico entre eles(médio)"
      ]
    },
    {
      "cell_type": "code",
      "metadata": {
        "id": "EaV9hyJt9dih",
        "colab_type": "code",
        "colab": {}
      },
      "source": [
        ""
      ],
      "execution_count": 0,
      "outputs": []
    },
    {
      "cell_type": "markdown",
      "metadata": {
        "id": "AAh0zn6m9hME",
        "colab_type": "text"
      },
      "source": [
        "3.Crie um algoritmo que solicite do usuário e apresente o minímo multiplo comum (MMC)entre eles(difíl)"
      ]
    },
    {
      "cell_type": "code",
      "metadata": {
        "id": "Mt_YhfKq9h6w",
        "colab_type": "code",
        "colab": {}
      },
      "source": [
        ""
      ],
      "execution_count": 0,
      "outputs": []
    },
    {
      "cell_type": "markdown",
      "metadata": {
        "id": "wIHAQd0B-gnW",
        "colab_type": "text"
      },
      "source": [
        "##Conectivos Lógicos"
      ]
    },
    {
      "cell_type": "code",
      "metadata": {
        "id": "r1nfVDYr-mwu",
        "colab_type": "code",
        "colab": {
          "base_uri": "https://localhost:8080/",
          "height": 34
        },
        "outputId": "c6dcdb6d-cde5-4ea0-eb91-d61b51b4d31b"
      },
      "source": [
        "x = 10\n",
        "if x> 0:\n",
        "  print(\"Número positivo\")\n",
        "else:\n",
        "  print(\"Número negativo\")\n"
      ],
      "execution_count": 34,
      "outputs": [
        {
          "output_type": "stream",
          "text": [
            "Número positivo\n"
          ],
          "name": "stdout"
        }
      ]
    },
    {
      "cell_type": "code",
      "metadata": {
        "id": "sym7038i-9vG",
        "colab_type": "code",
        "colab": {
          "base_uri": "https://localhost:8080/",
          "height": 34
        },
        "outputId": "8b6db3cb-d357-48aa-f6bc-e2eb8a281bbc"
      },
      "source": [
        "x = \"janeiro\"\n",
        "if x == \"janeiro\" or x == \"fevereiro\" or x == \"março\":\n",
        "  print(\"trimestre 1\")\n",
        "elif x == \"abril\" or x == \"maio\" or x == \"junho\":\n",
        "  print(\"trimestre 2\")\n",
        "else:\n",
        "  print(\"trimestre 3\")  "
      ],
      "execution_count": 35,
      "outputs": [
        {
          "output_type": "stream",
          "text": [
            "trimestre 1\n"
          ],
          "name": "stdout"
        }
      ]
    },
    {
      "cell_type": "code",
      "metadata": {
        "id": "hEKlJQ5tAX4x",
        "colab_type": "code",
        "colab": {}
      },
      "source": [
        " "
      ],
      "execution_count": 0,
      "outputs": []
    },
    {
      "cell_type": "markdown",
      "metadata": {
        "id": "ohDo9lVvAkPY",
        "colab_type": "text"
      },
      "source": [
        "#>>>Exercícios\n",
        "1.Crie um algoritmo que solicite do usuário um número e calcule se ele é POSITIVO ou NEGATIVO(fácil)"
      ]
    },
    {
      "cell_type": "code",
      "metadata": {
        "id": "__-bm73eA-DT",
        "colab_type": "code",
        "colab": {
          "base_uri": "https://localhost:8080/",
          "height": 50
        },
        "outputId": "8dd8ac78-cd03-4dd9-c4cb-500c033c8d4f"
      },
      "source": [
        "numero = int(input(\"Digite o número: \"))\n",
        "if(numero < 0):\n",
        "  print(\"Numero negativo\")\n",
        "else:\n",
        "  print(\"Número positivo\")  "
      ],
      "execution_count": 41,
      "outputs": [
        {
          "output_type": "stream",
          "text": [
            "Digite o número: 25\n",
            "Número positivo\n"
          ],
          "name": "stdout"
        }
      ]
    },
    {
      "cell_type": "markdown",
      "metadata": {
        "id": "O43xjCDlBBYa",
        "colab_type": "text"
      },
      "source": [
        "2.Crie um algoritmo que solicite peso e altura e como resultado printe o IMC na tela(médio)"
      ]
    },
    {
      "cell_type": "code",
      "metadata": {
        "id": "cNT-ePo0BQ9c",
        "colab_type": "code",
        "colab": {
          "base_uri": "https://localhost:8080/",
          "height": 84
        },
        "outputId": "43ccf718-8ed5-4190-d0e3-943c7cd0e4a5"
      },
      "source": [
        "peso = float(input('Qual é o seu peso? (Kg)'))\n",
        "altura = float(input('Qual é a sua altura? (m)'))\n",
        "imc = peso / (altura ** 2)\n",
        "print('O IMC dessa pessoa é de {}'.format(imc))\n",
        "if imc < 18.5:\n",
        "  print('Você está ABAIXO do peso normal')\n",
        "elif 18.5 <= imc < 25:\n",
        "  print('PARABÉNS, você está na faixa de PESO NORMAL')\n",
        "elif 25 <= imc < 30:\n",
        "  print('Você está em SOBRE PESO')\n",
        "elif 30 <= imc < 40:\n",
        "  print ('Você está em OBESIDADE MÓRBIDA, Cuidado!')\n",
        "elif imc >= 40:\n",
        "  print('Você está em OBESIDADE MÓRBIDA, Cuidado!')  "
      ],
      "execution_count": 48,
      "outputs": [
        {
          "output_type": "stream",
          "text": [
            "Qual é o seu peso? (Kg)135\n",
            "Qual é a sua altura? (m)1.84\n",
            "O IMC dessa pessoa é de 39.874763705103966\n",
            "Você está em OBESIDADE MÓRBIDA, Cuidado!\n"
          ],
          "name": "stdout"
        }
      ]
    },
    {
      "cell_type": "markdown",
      "metadata": {
        "id": "cZqW_2M3BR37",
        "colab_type": "text"
      },
      "source": [
        "3.Crie um algoritmo que solicite do usuário um número e printe na tela PAR, quando número par e IMPAR, quando número ímpar(difícil)"
      ]
    },
    {
      "cell_type": "code",
      "metadata": {
        "id": "AYlsJ390BuLA",
        "colab_type": "code",
        "colab": {
          "base_uri": "https://localhost:8080/",
          "height": 50
        },
        "outputId": "bf0ae3a9-6ca8-423f-eaf0-6ca2b0bfa923"
      },
      "source": [
        "numero = int(input('Digite um número qualquer: '))\n",
        "resultado = numero % 2\n",
        "if resultado == 0:\n",
        "   print('O número {} é PAR'.format(numero))\n",
        "else:\n",
        "   print('O número {} é ÍMPAR'.format(numero))"
      ],
      "execution_count": 55,
      "outputs": [
        {
          "output_type": "stream",
          "text": [
            "Digite um número qualquer: 30\n",
            "O número 30 é PAR\n"
          ],
          "name": "stdout"
        }
      ]
    },
    {
      "cell_type": "code",
      "metadata": {
        "id": "EzV6822qK49l",
        "colab_type": "code",
        "colab": {}
      },
      "source": [
        ""
      ],
      "execution_count": 0,
      "outputs": []
    }
  ]
}